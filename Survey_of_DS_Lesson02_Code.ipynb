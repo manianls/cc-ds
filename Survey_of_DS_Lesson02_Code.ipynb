{
  "nbformat": 4,
  "nbformat_minor": 0,
  "metadata": {
    "kernelspec": {
      "display_name": "Python 3",
      "language": "python",
      "name": "python3"
    },
    "language_info": {
      "codemirror_mode": {
        "name": "ipython",
        "version": 3
      },
      "file_extension": ".py",
      "mimetype": "text/x-python",
      "name": "python",
      "nbconvert_exporter": "python",
      "pygments_lexer": "ipython3",
      "version": "3.6.2"
    },
    "colab": {
      "name": "Survey-of-DS-Lesson02-Code.ipynb",
      "provenance": [],
      "collapsed_sections": [],
      "include_colab_link": true
    }
  },
  "cells": [
    {
      "cell_type": "markdown",
      "metadata": {
        "id": "view-in-github",
        "colab_type": "text"
      },
      "source": [
        "<a href=\"https://colab.research.google.com/github/manianls/cc-ds/blob/main/Survey_of_DS_Lesson02_Code.ipynb\" target=\"_parent\"><img src=\"https://colab.research.google.com/assets/colab-badge.svg\" alt=\"Open In Colab\"/></a>"
      ]
    },
    {
      "cell_type": "markdown",
      "metadata": {
        "id": "US5zXhEXGEBJ"
      },
      "source": [
        "# Come up with a Question\n",
        "\n",
        "Do younger users tend to live in bigger cities and do older users live in smaller cities? "
      ]
    },
    {
      "cell_type": "markdown",
      "metadata": {
        "id": "taQbd5_ZGEBQ"
      },
      "source": [
        "# Determine the Necessary Data"
      ]
    },
    {
      "cell_type": "code",
      "metadata": {
        "colab": {
          "base_uri": "https://localhost:8080/"
        },
        "id": "yLPUAQ8NJcKf",
        "outputId": "976647df-fbc8-4b0b-8a3e-aea77e159be9"
      },
      "source": [
        "! pwd"
      ],
      "execution_count": 12,
      "outputs": [
        {
          "output_type": "stream",
          "name": "stdout",
          "text": [
            "/content\n"
          ]
        }
      ]
    },
    {
      "cell_type": "code",
      "metadata": {
        "colab": {
          "base_uri": "https://localhost:8080/"
        },
        "id": "j4FMawYvKdMB",
        "outputId": "072e48e7-309a-4687-c248-114a55470946"
      },
      "source": [
        "from google.colab import drive\n",
        "drive.mount('/content/drive')"
      ],
      "execution_count": 13,
      "outputs": [
        {
          "output_type": "stream",
          "name": "stdout",
          "text": [
            "Mounted at /content/drive\n"
          ]
        }
      ]
    },
    {
      "cell_type": "code",
      "metadata": {
        "colab": {
          "base_uri": "https://localhost:8080/"
        },
        "id": "LfZqu3LnGEBR",
        "outputId": "8580868c-52f9-4d99-97cf-a27a7ae681ad"
      },
      "source": [
        "# Import modules:\n",
        "import pandas as pd\n",
        "import numpy as np\n",
        "\n",
        "# Import the data:\n",
        "user_data = pd.read_csv(\"/content/drive/MyDrive/cc-ds/user_data.csv\")\n",
        "\n",
        "# Create age variable and find population mean:\n",
        "population_mean = np.mean(user_data[\"age\"])\n",
        "\n",
        "# Select increasingly larger samples:\n",
        "extra_small_sample = user_data[\"age\"][:10]\n",
        "small_sample = user_data[\"age\"][:50]\n",
        "medium_sample = user_data[\"age\"][:100]\n",
        "large_sample = user_data[\"age\"][:200]\n",
        "\n",
        "# Calculate the mean of those samples:\n",
        "extra_small_sample_mean = np.mean(extra_small_sample)\n",
        "small_sample_mean = np.mean(small_sample)\n",
        "medium_sample_mean = np.mean(medium_sample)\n",
        "large_sample_mean = np.mean(large_sample)\n",
        "\n",
        "# Print them all out!\n",
        "print (\"Extra Small Sample Mean: \" + str(extra_small_sample_mean))\n",
        "print (\"Small Sample Mean: \" + str(small_sample_mean))\n",
        "print (\"Medium Sample Mean: \" + str(medium_sample_mean))\n",
        "print (\"Large Sample Mean: \" + str(large_sample_mean))\n",
        "\n",
        "\n",
        "print (\"\\nPopulation Mean: \"+ str(population_mean))\n"
      ],
      "execution_count": 14,
      "outputs": [
        {
          "output_type": "stream",
          "name": "stdout",
          "text": [
            "Extra Small Sample Mean: 29.0\n",
            "Small Sample Mean: 29.24\n",
            "Medium Sample Mean: 29.04\n",
            "Large Sample Mean: 29.35\n",
            "\n",
            "Population Mean: 29.427860696517413\n"
          ]
        }
      ]
    },
    {
      "cell_type": "markdown",
      "metadata": {
        "id": "QltuJG7-GEBV"
      },
      "source": [
        "# Get the Data\n",
        "\n",
        "You can find the dataset at [https://simplemaps.com/data/us-cities](https://simplemaps.com/data/us-cities)."
      ]
    },
    {
      "cell_type": "markdown",
      "metadata": {
        "id": "MYlFsxsWGEBV"
      },
      "source": [
        "# Clean the Data"
      ]
    },
    {
      "cell_type": "code",
      "metadata": {
        "colab": {
          "base_uri": "https://localhost:8080/",
          "height": 206
        },
        "id": "Q34wMCrlGEBW",
        "outputId": "680a8543-7347-4a8b-918c-2a13b9b02109"
      },
      "source": [
        "# Import the data:\n",
        "pop_data = pd.read_csv(\"/content/drive/MyDrive/cc-ds/us_cities_small.csv\")\n",
        "\n",
        "# Look at the current pop_data DataFrame:\n",
        "pop_data.head()"
      ],
      "execution_count": 15,
      "outputs": [
        {
          "output_type": "execute_result",
          "data": {
            "text/html": [
              "<div>\n",
              "<style scoped>\n",
              "    .dataframe tbody tr th:only-of-type {\n",
              "        vertical-align: middle;\n",
              "    }\n",
              "\n",
              "    .dataframe tbody tr th {\n",
              "        vertical-align: top;\n",
              "    }\n",
              "\n",
              "    .dataframe thead th {\n",
              "        text-align: right;\n",
              "    }\n",
              "</style>\n",
              "<table border=\"1\" class=\"dataframe\">\n",
              "  <thead>\n",
              "    <tr style=\"text-align: right;\">\n",
              "      <th></th>\n",
              "      <th>city</th>\n",
              "      <th>population_proper</th>\n",
              "    </tr>\n",
              "  </thead>\n",
              "  <tbody>\n",
              "    <tr>\n",
              "      <th>0</th>\n",
              "      <td>Prairie Ridge, WA</td>\n",
              "      <td>NaN</td>\n",
              "    </tr>\n",
              "    <tr>\n",
              "      <th>1</th>\n",
              "      <td>Edison, WA</td>\n",
              "      <td>NaN</td>\n",
              "    </tr>\n",
              "    <tr>\n",
              "      <th>2</th>\n",
              "      <td>Packwood, WA</td>\n",
              "      <td>NaN</td>\n",
              "    </tr>\n",
              "    <tr>\n",
              "      <th>3</th>\n",
              "      <td>Wautauga Beach, WA</td>\n",
              "      <td>NaN</td>\n",
              "    </tr>\n",
              "    <tr>\n",
              "      <th>4</th>\n",
              "      <td>Harper, WA</td>\n",
              "      <td>NaN</td>\n",
              "    </tr>\n",
              "  </tbody>\n",
              "</table>\n",
              "</div>"
            ],
            "text/plain": [
              "                 city  population_proper\n",
              "0   Prairie Ridge, WA                NaN\n",
              "1          Edison, WA                NaN\n",
              "2        Packwood, WA                NaN\n",
              "3  Wautauga Beach, WA                NaN\n",
              "4          Harper, WA                NaN"
            ]
          },
          "metadata": {},
          "execution_count": 15
        }
      ]
    },
    {
      "cell_type": "code",
      "metadata": {
        "colab": {
          "base_uri": "https://localhost:8080/",
          "height": 206
        },
        "id": "-mbmhACcGEBX",
        "outputId": "920ed6fa-a86a-4fed-c2c0-394e9d2b5e6f"
      },
      "source": [
        "# Look at the current user_data DataFrame:\n",
        "user_data.head()"
      ],
      "execution_count": 16,
      "outputs": [
        {
          "output_type": "execute_result",
          "data": {
            "text/html": [
              "<div>\n",
              "<style scoped>\n",
              "    .dataframe tbody tr th:only-of-type {\n",
              "        vertical-align: middle;\n",
              "    }\n",
              "\n",
              "    .dataframe tbody tr th {\n",
              "        vertical-align: top;\n",
              "    }\n",
              "\n",
              "    .dataframe thead th {\n",
              "        text-align: right;\n",
              "    }\n",
              "</style>\n",
              "<table border=\"1\" class=\"dataframe\">\n",
              "  <thead>\n",
              "    <tr style=\"text-align: right;\">\n",
              "      <th></th>\n",
              "      <th>city</th>\n",
              "      <th>education</th>\n",
              "      <th>age</th>\n",
              "    </tr>\n",
              "  </thead>\n",
              "  <tbody>\n",
              "    <tr>\n",
              "      <th>0</th>\n",
              "      <td>Brooklyn, NY</td>\n",
              "      <td>college</td>\n",
              "      <td>31</td>\n",
              "    </tr>\n",
              "    <tr>\n",
              "      <th>1</th>\n",
              "      <td>Brooklyn, NY</td>\n",
              "      <td>graduate degree</td>\n",
              "      <td>31</td>\n",
              "    </tr>\n",
              "    <tr>\n",
              "      <th>2</th>\n",
              "      <td>Brooklyn, NY</td>\n",
              "      <td>graduate degree</td>\n",
              "      <td>32</td>\n",
              "    </tr>\n",
              "    <tr>\n",
              "      <th>3</th>\n",
              "      <td>Brooklyn, NY</td>\n",
              "      <td>college</td>\n",
              "      <td>37</td>\n",
              "    </tr>\n",
              "    <tr>\n",
              "      <th>4</th>\n",
              "      <td>Brooklyn, NY</td>\n",
              "      <td>college</td>\n",
              "      <td>21</td>\n",
              "    </tr>\n",
              "  </tbody>\n",
              "</table>\n",
              "</div>"
            ],
            "text/plain": [
              "           city        education  age\n",
              "0  Brooklyn, NY          college   31\n",
              "1  Brooklyn, NY  graduate degree   31\n",
              "2  Brooklyn, NY  graduate degree   32\n",
              "3  Brooklyn, NY          college   37\n",
              "4  Brooklyn, NY          college   21"
            ]
          },
          "metadata": {},
          "execution_count": 16
        }
      ]
    },
    {
      "cell_type": "code",
      "metadata": {
        "colab": {
          "base_uri": "https://localhost:8080/",
          "height": 363
        },
        "id": "ZczyIFyBGEBY",
        "outputId": "dcaa0746-9e0b-4f63-fd4b-848368c0947a"
      },
      "source": [
        "# Merge the two datasets on the city column:\n",
        "\n",
        "new_df = pd.merge(user_data, pop_data)\n",
        "new_df.head(10)"
      ],
      "execution_count": 17,
      "outputs": [
        {
          "output_type": "execute_result",
          "data": {
            "text/html": [
              "<div>\n",
              "<style scoped>\n",
              "    .dataframe tbody tr th:only-of-type {\n",
              "        vertical-align: middle;\n",
              "    }\n",
              "\n",
              "    .dataframe tbody tr th {\n",
              "        vertical-align: top;\n",
              "    }\n",
              "\n",
              "    .dataframe thead th {\n",
              "        text-align: right;\n",
              "    }\n",
              "</style>\n",
              "<table border=\"1\" class=\"dataframe\">\n",
              "  <thead>\n",
              "    <tr style=\"text-align: right;\">\n",
              "      <th></th>\n",
              "      <th>city</th>\n",
              "      <th>education</th>\n",
              "      <th>age</th>\n",
              "      <th>population_proper</th>\n",
              "    </tr>\n",
              "  </thead>\n",
              "  <tbody>\n",
              "    <tr>\n",
              "      <th>0</th>\n",
              "      <td>Brooklyn, NY</td>\n",
              "      <td>college</td>\n",
              "      <td>31</td>\n",
              "      <td>2629150.0</td>\n",
              "    </tr>\n",
              "    <tr>\n",
              "      <th>1</th>\n",
              "      <td>Brooklyn, NY</td>\n",
              "      <td>graduate degree</td>\n",
              "      <td>31</td>\n",
              "      <td>2629150.0</td>\n",
              "    </tr>\n",
              "    <tr>\n",
              "      <th>2</th>\n",
              "      <td>Brooklyn, NY</td>\n",
              "      <td>graduate degree</td>\n",
              "      <td>32</td>\n",
              "      <td>2629150.0</td>\n",
              "    </tr>\n",
              "    <tr>\n",
              "      <th>3</th>\n",
              "      <td>Brooklyn, NY</td>\n",
              "      <td>college</td>\n",
              "      <td>37</td>\n",
              "      <td>2629150.0</td>\n",
              "    </tr>\n",
              "    <tr>\n",
              "      <th>4</th>\n",
              "      <td>Brooklyn, NY</td>\n",
              "      <td>college</td>\n",
              "      <td>21</td>\n",
              "      <td>2629150.0</td>\n",
              "    </tr>\n",
              "    <tr>\n",
              "      <th>5</th>\n",
              "      <td>Austin, TX</td>\n",
              "      <td>college</td>\n",
              "      <td>25</td>\n",
              "      <td>947890.0</td>\n",
              "    </tr>\n",
              "    <tr>\n",
              "      <th>6</th>\n",
              "      <td>Austin, TX</td>\n",
              "      <td>graduate degree</td>\n",
              "      <td>22</td>\n",
              "      <td>947890.0</td>\n",
              "    </tr>\n",
              "    <tr>\n",
              "      <th>7</th>\n",
              "      <td>Oakland, CA</td>\n",
              "      <td>graduate degree</td>\n",
              "      <td>29</td>\n",
              "      <td>420005.0</td>\n",
              "    </tr>\n",
              "    <tr>\n",
              "      <th>8</th>\n",
              "      <td>Pittsburgh, PA</td>\n",
              "      <td>college</td>\n",
              "      <td>29</td>\n",
              "      <td>303625.0</td>\n",
              "    </tr>\n",
              "    <tr>\n",
              "      <th>9</th>\n",
              "      <td>Pittsburgh, PA</td>\n",
              "      <td>college</td>\n",
              "      <td>27</td>\n",
              "      <td>303625.0</td>\n",
              "    </tr>\n",
              "  </tbody>\n",
              "</table>\n",
              "</div>"
            ],
            "text/plain": [
              "             city        education  age  population_proper\n",
              "0    Brooklyn, NY          college   31          2629150.0\n",
              "1    Brooklyn, NY  graduate degree   31          2629150.0\n",
              "2    Brooklyn, NY  graduate degree   32          2629150.0\n",
              "3    Brooklyn, NY          college   37          2629150.0\n",
              "4    Brooklyn, NY          college   21          2629150.0\n",
              "5      Austin, TX          college   25           947890.0\n",
              "6      Austin, TX  graduate degree   22           947890.0\n",
              "7     Oakland, CA  graduate degree   29           420005.0\n",
              "8  Pittsburgh, PA          college   29           303625.0\n",
              "9  Pittsburgh, PA          college   27           303625.0"
            ]
          },
          "metadata": {},
          "execution_count": 17
        }
      ]
    },
    {
      "cell_type": "code",
      "metadata": {
        "colab": {
          "base_uri": "https://localhost:8080/",
          "height": 677
        },
        "id": "GoF8TxPrGEBZ",
        "outputId": "3f1a9bd8-c74a-4a75-f819-db19e64a7be3"
      },
      "source": [
        "# Write a logic statement that determines if a location is \"rural\" or \"urban\":\n",
        "new_df.loc[new_df.population_proper < 100000, \"location\"] = \"rural\"\n",
        "new_df.loc[new_df.population_proper >= 100000, \"location\"] = \"urban\"\n",
        "\n",
        "# look at the new DataFrame:\n",
        "new_df.head(20)"
      ],
      "execution_count": 18,
      "outputs": [
        {
          "output_type": "execute_result",
          "data": {
            "text/html": [
              "<div>\n",
              "<style scoped>\n",
              "    .dataframe tbody tr th:only-of-type {\n",
              "        vertical-align: middle;\n",
              "    }\n",
              "\n",
              "    .dataframe tbody tr th {\n",
              "        vertical-align: top;\n",
              "    }\n",
              "\n",
              "    .dataframe thead th {\n",
              "        text-align: right;\n",
              "    }\n",
              "</style>\n",
              "<table border=\"1\" class=\"dataframe\">\n",
              "  <thead>\n",
              "    <tr style=\"text-align: right;\">\n",
              "      <th></th>\n",
              "      <th>city</th>\n",
              "      <th>education</th>\n",
              "      <th>age</th>\n",
              "      <th>population_proper</th>\n",
              "      <th>location</th>\n",
              "    </tr>\n",
              "  </thead>\n",
              "  <tbody>\n",
              "    <tr>\n",
              "      <th>0</th>\n",
              "      <td>Brooklyn, NY</td>\n",
              "      <td>college</td>\n",
              "      <td>31</td>\n",
              "      <td>2629150.0</td>\n",
              "      <td>urban</td>\n",
              "    </tr>\n",
              "    <tr>\n",
              "      <th>1</th>\n",
              "      <td>Brooklyn, NY</td>\n",
              "      <td>graduate degree</td>\n",
              "      <td>31</td>\n",
              "      <td>2629150.0</td>\n",
              "      <td>urban</td>\n",
              "    </tr>\n",
              "    <tr>\n",
              "      <th>2</th>\n",
              "      <td>Brooklyn, NY</td>\n",
              "      <td>graduate degree</td>\n",
              "      <td>32</td>\n",
              "      <td>2629150.0</td>\n",
              "      <td>urban</td>\n",
              "    </tr>\n",
              "    <tr>\n",
              "      <th>3</th>\n",
              "      <td>Brooklyn, NY</td>\n",
              "      <td>college</td>\n",
              "      <td>37</td>\n",
              "      <td>2629150.0</td>\n",
              "      <td>urban</td>\n",
              "    </tr>\n",
              "    <tr>\n",
              "      <th>4</th>\n",
              "      <td>Brooklyn, NY</td>\n",
              "      <td>college</td>\n",
              "      <td>21</td>\n",
              "      <td>2629150.0</td>\n",
              "      <td>urban</td>\n",
              "    </tr>\n",
              "    <tr>\n",
              "      <th>5</th>\n",
              "      <td>Austin, TX</td>\n",
              "      <td>college</td>\n",
              "      <td>25</td>\n",
              "      <td>947890.0</td>\n",
              "      <td>urban</td>\n",
              "    </tr>\n",
              "    <tr>\n",
              "      <th>6</th>\n",
              "      <td>Austin, TX</td>\n",
              "      <td>graduate degree</td>\n",
              "      <td>22</td>\n",
              "      <td>947890.0</td>\n",
              "      <td>urban</td>\n",
              "    </tr>\n",
              "    <tr>\n",
              "      <th>7</th>\n",
              "      <td>Oakland, CA</td>\n",
              "      <td>graduate degree</td>\n",
              "      <td>29</td>\n",
              "      <td>420005.0</td>\n",
              "      <td>urban</td>\n",
              "    </tr>\n",
              "    <tr>\n",
              "      <th>8</th>\n",
              "      <td>Pittsburgh, PA</td>\n",
              "      <td>college</td>\n",
              "      <td>29</td>\n",
              "      <td>303625.0</td>\n",
              "      <td>urban</td>\n",
              "    </tr>\n",
              "    <tr>\n",
              "      <th>9</th>\n",
              "      <td>Pittsburgh, PA</td>\n",
              "      <td>college</td>\n",
              "      <td>27</td>\n",
              "      <td>303625.0</td>\n",
              "      <td>urban</td>\n",
              "    </tr>\n",
              "    <tr>\n",
              "      <th>10</th>\n",
              "      <td>Pittsburgh, PA</td>\n",
              "      <td>graduate degree</td>\n",
              "      <td>28</td>\n",
              "      <td>303625.0</td>\n",
              "      <td>urban</td>\n",
              "    </tr>\n",
              "    <tr>\n",
              "      <th>11</th>\n",
              "      <td>Pittsburgh, PA</td>\n",
              "      <td>graduate degree</td>\n",
              "      <td>36</td>\n",
              "      <td>303625.0</td>\n",
              "      <td>urban</td>\n",
              "    </tr>\n",
              "    <tr>\n",
              "      <th>12</th>\n",
              "      <td>Ames, IA</td>\n",
              "      <td>college</td>\n",
              "      <td>31</td>\n",
              "      <td>66191.0</td>\n",
              "      <td>rural</td>\n",
              "    </tr>\n",
              "    <tr>\n",
              "      <th>13</th>\n",
              "      <td>Albany, NY</td>\n",
              "      <td>graduate degree</td>\n",
              "      <td>31</td>\n",
              "      <td>98111.0</td>\n",
              "      <td>rural</td>\n",
              "    </tr>\n",
              "    <tr>\n",
              "      <th>14</th>\n",
              "      <td>Lancaster, PA</td>\n",
              "      <td>college</td>\n",
              "      <td>31</td>\n",
              "      <td>59218.0</td>\n",
              "      <td>rural</td>\n",
              "    </tr>\n",
              "    <tr>\n",
              "      <th>15</th>\n",
              "      <td>Reno, NV</td>\n",
              "      <td>high school</td>\n",
              "      <td>31</td>\n",
              "      <td>245255.0</td>\n",
              "      <td>urban</td>\n",
              "    </tr>\n",
              "    <tr>\n",
              "      <th>16</th>\n",
              "      <td>Reno, NV</td>\n",
              "      <td>college</td>\n",
              "      <td>22</td>\n",
              "      <td>245255.0</td>\n",
              "      <td>urban</td>\n",
              "    </tr>\n",
              "    <tr>\n",
              "      <th>17</th>\n",
              "      <td>Houston, TX</td>\n",
              "      <td>high school</td>\n",
              "      <td>31</td>\n",
              "      <td>2303482.0</td>\n",
              "      <td>urban</td>\n",
              "    </tr>\n",
              "    <tr>\n",
              "      <th>18</th>\n",
              "      <td>Houston, TX</td>\n",
              "      <td>high school</td>\n",
              "      <td>21</td>\n",
              "      <td>2303482.0</td>\n",
              "      <td>urban</td>\n",
              "    </tr>\n",
              "    <tr>\n",
              "      <th>19</th>\n",
              "      <td>Houston, TX</td>\n",
              "      <td>graduate degree</td>\n",
              "      <td>26</td>\n",
              "      <td>2303482.0</td>\n",
              "      <td>urban</td>\n",
              "    </tr>\n",
              "  </tbody>\n",
              "</table>\n",
              "</div>"
            ],
            "text/plain": [
              "              city        education  age  population_proper location\n",
              "0     Brooklyn, NY          college   31          2629150.0    urban\n",
              "1     Brooklyn, NY  graduate degree   31          2629150.0    urban\n",
              "2     Brooklyn, NY  graduate degree   32          2629150.0    urban\n",
              "3     Brooklyn, NY          college   37          2629150.0    urban\n",
              "4     Brooklyn, NY          college   21          2629150.0    urban\n",
              "5       Austin, TX          college   25           947890.0    urban\n",
              "6       Austin, TX  graduate degree   22           947890.0    urban\n",
              "7      Oakland, CA  graduate degree   29           420005.0    urban\n",
              "8   Pittsburgh, PA          college   29           303625.0    urban\n",
              "9   Pittsburgh, PA          college   27           303625.0    urban\n",
              "10  Pittsburgh, PA  graduate degree   28           303625.0    urban\n",
              "11  Pittsburgh, PA  graduate degree   36           303625.0    urban\n",
              "12        Ames, IA          college   31            66191.0    rural\n",
              "13      Albany, NY  graduate degree   31            98111.0    rural\n",
              "14   Lancaster, PA          college   31            59218.0    rural\n",
              "15        Reno, NV      high school   31           245255.0    urban\n",
              "16        Reno, NV          college   22           245255.0    urban\n",
              "17     Houston, TX      high school   31          2303482.0    urban\n",
              "18     Houston, TX      high school   21          2303482.0    urban\n",
              "19     Houston, TX  graduate degree   26          2303482.0    urban"
            ]
          },
          "metadata": {},
          "execution_count": 18
        }
      ]
    },
    {
      "cell_type": "markdown",
      "metadata": {
        "id": "sWHuw-5OGEBa"
      },
      "source": [
        "# Explore the Data"
      ]
    },
    {
      "cell_type": "code",
      "metadata": {
        "colab": {
          "base_uri": "https://localhost:8080/",
          "height": 217
        },
        "id": "c7mSU2jdGEBc",
        "outputId": "77b33279-3035-41ad-a583-600cc35cb917"
      },
      "source": [
        "# Plot a histogram that shows the distribution of ages in the dataset:\n",
        "\n",
        "age = new_df[\"age\"]\n",
        "sns.distplot(age)\n",
        "plt.show()"
      ],
      "execution_count": 19,
      "outputs": [
        {
          "output_type": "error",
          "ename": "NameError",
          "evalue": "ignored",
          "traceback": [
            "\u001b[0;31m---------------------------------------------------------------------------\u001b[0m",
            "\u001b[0;31mNameError\u001b[0m                                 Traceback (most recent call last)",
            "\u001b[0;32m<ipython-input-19-6f2e2e01f339>\u001b[0m in \u001b[0;36m<module>\u001b[0;34m()\u001b[0m\n\u001b[1;32m      2\u001b[0m \u001b[0;34m\u001b[0m\u001b[0m\n\u001b[1;32m      3\u001b[0m \u001b[0mage\u001b[0m \u001b[0;34m=\u001b[0m \u001b[0mnew_df\u001b[0m\u001b[0;34m[\u001b[0m\u001b[0;34m\"age\"\u001b[0m\u001b[0;34m]\u001b[0m\u001b[0;34m\u001b[0m\u001b[0;34m\u001b[0m\u001b[0m\n\u001b[0;32m----> 4\u001b[0;31m \u001b[0msns\u001b[0m\u001b[0;34m.\u001b[0m\u001b[0mdistplot\u001b[0m\u001b[0;34m(\u001b[0m\u001b[0mage\u001b[0m\u001b[0;34m)\u001b[0m\u001b[0;34m\u001b[0m\u001b[0;34m\u001b[0m\u001b[0m\n\u001b[0m\u001b[1;32m      5\u001b[0m \u001b[0mplt\u001b[0m\u001b[0;34m.\u001b[0m\u001b[0mshow\u001b[0m\u001b[0;34m(\u001b[0m\u001b[0;34m)\u001b[0m\u001b[0;34m\u001b[0m\u001b[0;34m\u001b[0m\u001b[0m\n",
            "\u001b[0;31mNameError\u001b[0m: name 'sns' is not defined"
          ]
        }
      ]
    },
    {
      "cell_type": "code",
      "metadata": {
        "colab": {
          "base_uri": "https://localhost:8080/"
        },
        "id": "IXeD2tWPGEBd",
        "outputId": "8bf655d0-0e99-4bb4-c191-f7abab5aac2c"
      },
      "source": [
        "# Find the mean age of urban and rural users:\n",
        "\n",
        "location_mean_age = new_df.groupby('location').age.mean() # turns it into a series\n",
        "location_mean_age.head()"
      ],
      "execution_count": 20,
      "outputs": [
        {
          "output_type": "execute_result",
          "data": {
            "text/plain": [
              "location\n",
              "rural    31.142857\n",
              "urban    29.609195\n",
              "Name: age, dtype: float64"
            ]
          },
          "metadata": {},
          "execution_count": 20
        }
      ]
    },
    {
      "cell_type": "code",
      "metadata": {
        "colab": {
          "base_uri": "https://localhost:8080/",
          "height": 282
        },
        "id": "7uv4eWwEGEBd",
        "outputId": "402cddad-0553-4b97-c5f9-7106e811d4e7"
      },
      "source": [
        "# Graph the age difference between rural and urban using a barplot:\n",
        "import matplotlib.pyplot as plt\n",
        "import seaborn as sns\n",
        "sns.barplot(\n",
        "\tdata=new_df,\n",
        "\tx= \"location\",\n",
        "\ty= \"age\"\n",
        ")\n",
        "\n",
        "plt.show()"
      ],
      "execution_count": 23,
      "outputs": [
        {
          "output_type": "display_data",
          "data": {
            "image/png": "[encoded data removed]",
            "text/plain": [
              "<Figure size 432x288 with 1 Axes>"
            ]
          },
          "metadata": {
            "needs_background": "light"
          }
        }
      ]
    },
    {
      "cell_type": "code",
      "metadata": {
        "colab": {
          "base_uri": "https://localhost:8080/",
          "height": 281
        },
        "id": "9MWu7Cs2GEBe",
        "outputId": "3c9103d7-77e0-4313-b1a4-23b2f0694f43"
      },
      "source": [
        "# Plot a violinplot, which shows the distribution of age in different locations:\n",
        "\n",
        "sns.violinplot(data=new_df, x=\"location\", y=\"age\")\n",
        "plt.show()"
      ],
      "execution_count": 24,
      "outputs": [
        {
          "output_type": "display_data",
          "data": {
            "image/png": "[encoded data removed]",
            "text/plain": [
              "<Figure size 432x288 with 1 Axes>"
            ]
          },
          "metadata": {
            "needs_background": "light"
          }
        }
      ]
    },
    {
      "cell_type": "markdown",
      "metadata": {
        "id": "rhPsH1-RGEBf"
      },
      "source": [
        "# Model the Data"
      ]
    },
    {
      "cell_type": "code",
      "metadata": {
        "colab": {
          "base_uri": "https://localhost:8080/",
          "height": 278
        },
        "id": "uhVWeedeGEBf",
        "outputId": "301b7b47-6c74-4481-a8bf-14337baae491"
      },
      "source": [
        "# Graph the population to age as a scatterplot: \n",
        "\n",
        "x = new_df['population_proper']\n",
        "y = new_df['age']\n",
        "\n",
        "plt.scatter(x, y, alpha=0.5)\n",
        "\n",
        "plt.show()"
      ],
      "execution_count": 25,
      "outputs": [
        {
          "output_type": "display_data",
          "data": {
            "image/png": "[encoded data removed]",
            "text/plain": [
              "<Figure size 432x288 with 1 Axes>"
            ]
          },
          "metadata": {
            "needs_background": "light"
          }
        }
      ]
    },
    {
      "cell_type": "code",
      "metadata": {
        "colab": {
          "base_uri": "https://localhost:8080/",
          "height": 280
        },
        "id": "Lkbt7mZdGEBg",
        "outputId": "87581a94-ac7b-45e4-c360-c2ad5d8fb397"
      },
      "source": [
        "# Use Seaborn to visualize a linear regression: \n",
        "\n",
        "sns.regplot(data=new_df, x=\"population_proper\", y=\"age\")\n",
        "\n",
        "plt.show()"
      ],
      "execution_count": 26,
      "outputs": [
        {
          "output_type": "display_data",
          "data": {
            "image/png": "[encoded data removed]",
            "text/plain": [
              "<Figure size 432x288 with 1 Axes>"
            ]
          },
          "metadata": {
            "needs_background": "light"
          }
        }
      ]
    },
    {
      "cell_type": "markdown",
      "metadata": {
        "id": "hVvkGkJlGEBh"
      },
      "source": [
        "# Communication:"
      ]
    },
    {
      "cell_type": "code",
      "metadata": {
        "scrolled": true,
        "colab": {
          "base_uri": "https://localhost:8080/",
          "height": 350
        },
        "id": "bbvxQxwgGEBh",
        "outputId": "a8d0df64-bb5b-4869-82c3-f47373fc0ec0"
      },
      "source": [
        "# Now we need to make our visualizations snazzy! \n",
        "\n",
        "# Linear regression plot:\n",
        "sns.regplot(data=new_df, x=\"population_proper\", y=\"age\")\n",
        "\n",
        "# Change the axes, so they're eaiser to undersatnd:\n",
        "ax = plt.subplot(1, 1, 1)\n",
        "ax.set_xticks([100000, 1000000, 2000000, 4000000, 8000000])\n",
        "ax.set_xticklabels(['100k', '1m', '2m','4m', '8m'])\n",
        "\n",
        "\n",
        "# Change the figure style and palette:\n",
        "sns.set_style(\"white\")\n",
        "sns.set_palette(\"pastel\")\n",
        "sns.despine()\n",
        "\n",
        "\n",
        "# Title the axes and plot: \n",
        "ax.set_xlabel(\"City Population\") \n",
        "ax.set_ylabel(\"User Age\") \n",
        "plt.title(\"Age against Population\")\n",
        "\n",
        "\n",
        "plt.show()"
      ],
      "execution_count": 27,
      "outputs": [
        {
          "output_type": "stream",
          "name": "stderr",
          "text": [
            "/usr/local/lib/python3.7/dist-packages/ipykernel_launcher.py:7: MatplotlibDeprecationWarning: Adding an axes using the same arguments as a previous axes currently reuses the earlier instance.  In a future version, a new instance will always be created and returned.  Meanwhile, this warning can be suppressed, and the future behavior ensured, by passing a unique label to each axes instance.\n",
            "  import sys\n"
          ]
        },
        {
          "output_type": "display_data",
          "data": {
            "image/png": "[encoded data removed]",
            "text/plain": [
              "<Figure size 432x288 with 1 Axes>"
            ]
          },
          "metadata": {
            "needs_background": "light"
          }
        }
      ]
    }
  ]
}